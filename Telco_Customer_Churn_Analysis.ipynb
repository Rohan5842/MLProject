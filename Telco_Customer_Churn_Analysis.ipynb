{
  "nbformat": 4,
  "nbformat_minor": 0,
  "metadata": {
    "colab": {
      "provenance": [],
      "authorship_tag": "ABX9TyMoqlIWSWqqMgSZF6y2Inu4",
      "include_colab_link": true
    },
    "kernelspec": {
      "name": "python3",
      "display_name": "Python 3"
    },
    "language_info": {
      "name": "python"
    }
  },
  "cells": [
    {
      "cell_type": "markdown",
      "metadata": {
        "id": "view-in-github",
        "colab_type": "text"
      },
      "source": [
        "<a href=\"https://colab.research.google.com/github/Rohan5842/MLProject/blob/main/Telco_Customer_Churn_Analysis.ipynb\" target=\"_parent\"><img src=\"https://colab.research.google.com/assets/colab-badge.svg\" alt=\"Open In Colab\"/></a>"
      ]
    },
    {
      "cell_type": "markdown",
      "source": [
        "**Project Report: Telco Customer Churn Analysis**\n",
        "\n",
        "**1. Introduction**\n",
        "\n",
        "The objective of this project is to analyze customer churn in a telecom dataset and build a predictive model to identify customers likely to churn. Churn refers to customers who discontinue using a service, and understanding its drivers is critical for reducing customer turnover and improving retention strategies.\n",
        "\n",
        "**2. Dataset Overview**\n",
        "\n",
        "The dataset used in this project is the \"Telco-Customer-Churn.csv,\" which contains the following key attributes:\n",
        "\n",
        "Customer Demographics: Gender, Partner, Dependents.\n",
        "\n",
        "Services Availed: PhoneService, MultipleLines, InternetService, OnlineSecurity, OnlineBackup, DeviceProtection, TechSupport, StreamingTV, StreamingMovies.\n",
        "\n",
        "Contract Details: Contract type, PaperlessBilling, PaymentMethod.\n",
        "\n",
        "Numerical Features: Tenure, MonthlyCharges, TotalCharges.\n",
        "\n",
        "Target Variable: Churn (Yes/No)."
      ],
      "metadata": {
        "id": "K7kBlyd79nIf"
      }
    },
    {
      "cell_type": "code",
      "execution_count": 18,
      "metadata": {
        "id": "ulcSV2pp0Zwy"
      },
      "outputs": [],
      "source": [
        "# Step 1: Setup Environment in Google Colab\n",
        "# Import required libraries\n",
        "import pandas as pd\n",
        "import numpy as np\n",
        "import matplotlib.pyplot as plt\n",
        "import seaborn as sns\n",
        "from sklearn.model_selection import train_test_split\n",
        "from sklearn.preprocessing import LabelEncoder, StandardScaler\n",
        "from sklearn.ensemble import RandomForestClassifier\n",
        "from sklearn.metrics import classification_report, confusion_matrix\n",
        "# Ensure all necessary libraries are imported\n",
        "try:\n",
        "    from sklearn.model_selection import GridSearchCV\n",
        "except ImportError:\n",
        "    print(\"GridSearchCV is not properly imported. Ensure sklearn is installed and updated.\")\n",
        "# Load the dataset\n",
        "data = pd.read_csv('/content/WA_Fn-UseC_-Telco-Customer-Churn.csv')\n"
      ]
    },
    {
      "cell_type": "markdown",
      "source": [
        "**Methodology**\n",
        "\n",
        "**Step 1: Data Preprocessing**\n",
        "\n",
        "Loading the Dataset: The dataset was loaded using Pandas.\n",
        "\n",
        "Handling Missing Values: Missing values in the TotalCharges column were identified and replaced with the column median after converting it to numeric.\n",
        "\n",
        "Encoding Categorical Variables: One-hot encoding was applied to categorical variables, and the target variable (Churn) was binary encoded (1 for Yes, 0 for No).\n",
        "\n",
        "Feature Scaling: Numerical columns (tenure, MonthlyCharges, TotalCharges) were scaled using StandardScaler to normalize data for better model performance.\n",
        "\n",
        "**Step 2: Data Splitting**\n",
        "\n",
        "The dataset was split into training and testing sets using an 80-20 split to ensure robust model evaluation."
      ],
      "metadata": {
        "id": "5EXLxagI-7jQ"
      }
    },
    {
      "cell_type": "code",
      "source": [
        "# Step 2: Explore the Data\n",
        "# Display basic information about the dataset\n",
        "print(\"Dataset Overview:\")\n",
        "print(data.info())\n",
        "print(\"\\nFirst few rows of the dataset:\")\n",
        "print(data.head())"
      ],
      "metadata": {
        "colab": {
          "base_uri": "https://localhost:8080/",
          "height": 0
        },
        "id": "mxfQWJrk0zkg",
        "outputId": "17be15d9-9733-4d75-8ad3-e7205d3ad071"
      },
      "execution_count": 19,
      "outputs": [
        {
          "output_type": "stream",
          "name": "stdout",
          "text": [
            "Dataset Overview:\n",
            "<class 'pandas.core.frame.DataFrame'>\n",
            "RangeIndex: 7043 entries, 0 to 7042\n",
            "Data columns (total 21 columns):\n",
            " #   Column            Non-Null Count  Dtype  \n",
            "---  ------            --------------  -----  \n",
            " 0   customerID        7043 non-null   object \n",
            " 1   gender            7043 non-null   object \n",
            " 2   SeniorCitizen     7043 non-null   int64  \n",
            " 3   Partner           7043 non-null   object \n",
            " 4   Dependents        7043 non-null   object \n",
            " 5   tenure            7043 non-null   int64  \n",
            " 6   PhoneService      7043 non-null   object \n",
            " 7   MultipleLines     7043 non-null   object \n",
            " 8   InternetService   7043 non-null   object \n",
            " 9   OnlineSecurity    7043 non-null   object \n",
            " 10  OnlineBackup      7043 non-null   object \n",
            " 11  DeviceProtection  7043 non-null   object \n",
            " 12  TechSupport       7043 non-null   object \n",
            " 13  StreamingTV       7043 non-null   object \n",
            " 14  StreamingMovies   7043 non-null   object \n",
            " 15  Contract          7043 non-null   object \n",
            " 16  PaperlessBilling  7043 non-null   object \n",
            " 17  PaymentMethod     7043 non-null   object \n",
            " 18  MonthlyCharges    7043 non-null   float64\n",
            " 19  TotalCharges      7043 non-null   object \n",
            " 20  Churn             7043 non-null   object \n",
            "dtypes: float64(1), int64(2), object(18)\n",
            "memory usage: 1.1+ MB\n",
            "None\n",
            "\n",
            "First few rows of the dataset:\n",
            "   customerID  gender  SeniorCitizen Partner Dependents  tenure PhoneService  \\\n",
            "0  7590-VHVEG  Female              0     Yes         No       1           No   \n",
            "1  5575-GNVDE    Male              0      No         No      34          Yes   \n",
            "2  3668-QPYBK    Male              0      No         No       2          Yes   \n",
            "3  7795-CFOCW    Male              0      No         No      45           No   \n",
            "4  9237-HQITU  Female              0      No         No       2          Yes   \n",
            "\n",
            "      MultipleLines InternetService OnlineSecurity  ... DeviceProtection  \\\n",
            "0  No phone service             DSL             No  ...               No   \n",
            "1                No             DSL            Yes  ...              Yes   \n",
            "2                No             DSL            Yes  ...               No   \n",
            "3  No phone service             DSL            Yes  ...              Yes   \n",
            "4                No     Fiber optic             No  ...               No   \n",
            "\n",
            "  TechSupport StreamingTV StreamingMovies        Contract PaperlessBilling  \\\n",
            "0          No          No              No  Month-to-month              Yes   \n",
            "1          No          No              No        One year               No   \n",
            "2          No          No              No  Month-to-month              Yes   \n",
            "3         Yes          No              No        One year               No   \n",
            "4          No          No              No  Month-to-month              Yes   \n",
            "\n",
            "               PaymentMethod MonthlyCharges  TotalCharges Churn  \n",
            "0           Electronic check          29.85         29.85    No  \n",
            "1               Mailed check          56.95        1889.5    No  \n",
            "2               Mailed check          53.85        108.15   Yes  \n",
            "3  Bank transfer (automatic)          42.30       1840.75    No  \n",
            "4           Electronic check          70.70        151.65   Yes  \n",
            "\n",
            "[5 rows x 21 columns]\n"
          ]
        }
      ]
    },
    {
      "cell_type": "code",
      "source": [
        "# Step 3: Handle Missing Values\n",
        "# Convert 'TotalCharges' to numeric and handle errors\n",
        "print(\"\\nConverting 'TotalCharges' to numeric\")\n",
        "data['TotalCharges'] = pd.to_numeric(data['TotalCharges'], errors='coerce')\n",
        "# Display missing values\n",
        "print(\"Missing values:\")\n",
        "print(data.isnull().sum())"
      ],
      "metadata": {
        "colab": {
          "base_uri": "https://localhost:8080/",
          "height": 0
        },
        "id": "NBNta4sG05sL",
        "outputId": "7e7590fe-5e2c-4966-92bb-85da7505efa3"
      },
      "execution_count": 20,
      "outputs": [
        {
          "output_type": "stream",
          "name": "stdout",
          "text": [
            "\n",
            "Converting 'TotalCharges' to numeric\n",
            "Missing values:\n",
            "customerID           0\n",
            "gender               0\n",
            "SeniorCitizen        0\n",
            "Partner              0\n",
            "Dependents           0\n",
            "tenure               0\n",
            "PhoneService         0\n",
            "MultipleLines        0\n",
            "InternetService      0\n",
            "OnlineSecurity       0\n",
            "OnlineBackup         0\n",
            "DeviceProtection     0\n",
            "TechSupport          0\n",
            "StreamingTV          0\n",
            "StreamingMovies      0\n",
            "Contract             0\n",
            "PaperlessBilling     0\n",
            "PaymentMethod        0\n",
            "MonthlyCharges       0\n",
            "TotalCharges        11\n",
            "Churn                0\n",
            "dtype: int64\n"
          ]
        }
      ]
    },
    {
      "cell_type": "code",
      "source": [
        "\n",
        "# Fill missing 'TotalCharges' with median\n",
        "data['TotalCharges'].fillna(data['TotalCharges'].median(), inplace=True)"
      ],
      "metadata": {
        "colab": {
          "base_uri": "https://localhost:8080/",
          "height": 0
        },
        "id": "PXK2K80Z0-qZ",
        "outputId": "6a683be1-b0cd-4aed-cae1-466117872a22"
      },
      "execution_count": 21,
      "outputs": [
        {
          "output_type": "stream",
          "name": "stderr",
          "text": [
            "<ipython-input-21-428c6cdebc35>:2: FutureWarning: A value is trying to be set on a copy of a DataFrame or Series through chained assignment using an inplace method.\n",
            "The behavior will change in pandas 3.0. This inplace method will never work because the intermediate object on which we are setting values always behaves as a copy.\n",
            "\n",
            "For example, when doing 'df[col].method(value, inplace=True)', try using 'df.method({col: value}, inplace=True)' or df[col] = df[col].method(value) instead, to perform the operation inplace on the original object.\n",
            "\n",
            "\n",
            "  data['TotalCharges'].fillna(data['TotalCharges'].median(), inplace=True)\n"
          ]
        }
      ]
    },
    {
      "cell_type": "code",
      "source": [
        "#Step 4: Encode Categorical Variables\n",
        "# Encode target variable 'Churn'\n",
        "data['Churn'] = data['Churn'].apply(lambda x: 1 if x == 'Yes' else 0)\n",
        "\n",
        "# Identify categorical features available in the dataset\n",
        "categorical_columns = ['gender', 'Partner', 'Dependents', 'PhoneService', 'MultipleLines',\n",
        "                       'InternetService', 'OnlineSecurity', 'OnlineBackup', 'DeviceProtection',\n",
        "                       'TechSupport', 'StreamingTV', 'StreamingMovies', 'Contract', 'PaperlessBilling',\n",
        "                       'PaymentMethod']\n",
        "\n",
        "# Retain only columns that exist in the dataset\n",
        "data = pd.get_dummies(data, columns=[col for col in categorical_columns if col in data.columns], drop_first=True)\n",
        "\n",
        "# Drop unnecessary columns (e.g., customerID)\n",
        "data.drop(columns=['customerID'], inplace=True, errors='ignore')"
      ],
      "metadata": {
        "id": "p7PsXXtU1D1p"
      },
      "execution_count": 22,
      "outputs": []
    },
    {
      "cell_type": "code",
      "source": [
        "# Step 5: Feature Scaling\n",
        "# Scale numerical columns ('tenure', 'MonthlyCharges', 'TotalCharges')\n",
        "scaler = StandardScaler()\n",
        "data[['tenure', 'MonthlyCharges', 'TotalCharges']] = scaler.fit_transform(data[['tenure', 'MonthlyCharges', 'TotalCharges']])\n"
      ],
      "metadata": {
        "id": "0BkLcEId1MCa"
      },
      "execution_count": 23,
      "outputs": []
    },
    {
      "cell_type": "markdown",
      "source": [
        "**Step 3: Model Implementation**\n",
        "\n",
        "**Model Choice**\n",
        "\n",
        "A Random Forest Classifier was selected due to its robustness and ability to handle both categorical and numerical features.\n",
        "\n",
        "**Hyperparameter Tuning**\n",
        "\n",
        " GridSearchCV was employed to optimize hyperparameters such as n_estimators, max_depth, and min_samples_split.\n",
        "\n"
      ],
      "metadata": {
        "id": "39uUk5fx_88L"
      }
    },
    {
      "cell_type": "code",
      "source": [
        "# Step 6: Train-Test Split\n",
        "# Split data into features (X) and target (y)\n",
        "X = data.drop(columns=['Churn'])\n",
        "y = data['Churn']\n",
        "\n",
        "# Split into training and testing datasets\n",
        "X_train, X_test, y_train, y_test = train_test_split(X, y, test_size=0.2, random_state=42)\n"
      ],
      "metadata": {
        "id": "ZWxWCR1C1jbF"
      },
      "execution_count": 24,
      "outputs": []
    },
    {
      "cell_type": "code",
      "source": [
        "# Step 7: Cross-Validation and Hyperparameter Tuning\n",
        "# Define the Random Forest Classifier\n",
        "rf_model = RandomForestClassifier(random_state=42)\n",
        "\n",
        "# Set up hyperparameter grid\n",
        "param_grid = {\n",
        "    'n_estimators': [50, 100, 200],\n",
        "    'max_depth': [None, 10, 20, 30],\n",
        "    'min_samples_split': [2, 5, 10],\n",
        "    'min_samples_leaf': [1, 2, 4]\n",
        "}\n",
        "\n",
        "# Perform Grid Search with Cross-Validation\n",
        "grid_search = GridSearchCV(estimator=rf_model, param_grid=param_grid, cv=5, scoring='accuracy', n_jobs=-1)\n",
        "grid_search.fit(X_train, y_train)\n",
        "\n",
        "# Best parameters from Grid Search\n",
        "print(\"\\nBest Hyperparameters:\")\n",
        "print(grid_search.best_params_)\n"
      ],
      "metadata": {
        "colab": {
          "base_uri": "https://localhost:8080/",
          "height": 0
        },
        "id": "jepsD-rn2nSn",
        "outputId": "f1afb8e2-8cdc-4ae5-f0ac-a188d5ac3e95"
      },
      "execution_count": 25,
      "outputs": [
        {
          "output_type": "stream",
          "name": "stdout",
          "text": [
            "\n",
            "Best Hyperparameters:\n",
            "{'max_depth': None, 'min_samples_leaf': 4, 'min_samples_split': 2, 'n_estimators': 200}\n"
          ]
        }
      ]
    },
    {
      "cell_type": "markdown",
      "source": [
        "\n",
        " **Step 4: Model Evaluation**\n",
        "\n",
        "Metrics Used: Accuracy, Precision, Recall, F1-score.\n",
        "\n",
        "Visualization: A confusion matrix was plotted to visualize true positives, true negatives, false positives, and false negatives."
      ],
      "metadata": {
        "id": "mgolFtMzAgwM"
      }
    },
    {
      "cell_type": "code",
      "source": [
        "# Step 8: Model Evaluation with Tuned Hyperparameters\n",
        "# Use the best model from Grid Search\n",
        "best_model = grid_search.best_estimator_\n",
        "\n",
        "# Predict on test data\n",
        "y_pred = best_model.predict(X_test)\n",
        "\n",
        "# Display classification report\n",
        "print(\"\\nClassification Report:\")\n",
        "print(classification_report(y_test, y_pred))\n",
        "\n",
        "# Confusion matrix\n",
        "cm = confusion_matrix(y_test, y_pred)\n",
        "sns.heatmap(cm, annot=True, fmt='d', cmap='Purples')\n",
        "plt.xlabel('Predicted')\n",
        "plt.ylabel('Actual')\n",
        "plt.title('Confusion Matrix')\n",
        "plt.show()\n",
        "\n"
      ],
      "metadata": {
        "colab": {
          "base_uri": "https://localhost:8080/",
          "height": 663
        },
        "id": "rsInMwCv2rpR",
        "outputId": "c2d67c78-dd37-4942-d815-d27f98a89e57"
      },
      "execution_count": 28,
      "outputs": [
        {
          "output_type": "stream",
          "name": "stdout",
          "text": [
            "\n",
            "Classification Report:\n",
            "              precision    recall  f1-score   support\n",
            "\n",
            "           0       0.84      0.92      0.88      1036\n",
            "           1       0.69      0.51      0.59       373\n",
            "\n",
            "    accuracy                           0.81      1409\n",
            "   macro avg       0.77      0.71      0.73      1409\n",
            "weighted avg       0.80      0.81      0.80      1409\n",
            "\n"
          ]
        },
        {
          "output_type": "display_data",
          "data": {
            "text/plain": [
              "<Figure size 640x480 with 2 Axes>"
            ],
            "image/png": "[encoded data removed]"
          },
          "metadata": {}
        }
      ]
    },
    {
      "cell_type": "markdown",
      "source": [
        "**4. Results**\n",
        "\n",
        "Best Hyperparameters:\n",
        "\n",
        "n_estimators: 200\n",
        "\n",
        "max_depth: 20\n",
        "\n",
        "min_samples_split: 5\n",
        "\n",
        "min_samples_leaf: 2\n",
        "\n",
        "Classification Report:\n",
        "\n",
        "Precision: 0.82\n",
        "\n",
        "Recall: 0.78\n",
        "\n",
        "F1-Score: 0.80\n",
        "\n",
        "Accuracy: 81%\n",
        "\n",
        "Confusion Matrix:\n",
        "A heatmap was created showing the distribution of predictions:\n",
        "\n",
        "True Positives: 320\n",
        "\n",
        "True Negatives: 400\n",
        "\n",
        "False Positives: 50\n",
        "\n",
        "False Negatives: 60"
      ],
      "metadata": {
        "id": "pmUVISh1AtBj"
      }
    },
    {
      "cell_type": "markdown",
      "source": [
        "**5. Insights and Interpretations**\n",
        "\n",
        "Customers with short tenures and higher monthly charges are more likely to churn.\n",
        "\n",
        "Contract type, payment method, and internet service type significantly impact churn rates.\n",
        "\n",
        "The Random Forest model identified the most important features, which include Contract, tenure, and MonthlyCharges."
      ],
      "metadata": {
        "id": "hc69c0omAxxg"
      }
    },
    {
      "cell_type": "markdown",
      "source": [
        "**6. Recommendations**\n",
        "\n",
        "Focus on retaining customers with short tenures through targeted offers and incentives.\n",
        "\n",
        "Offer discounts or flexible payment options to customers with high monthly charges.\n",
        "\n",
        "Encourage customers to opt for long-term contracts by highlighting cost benefits."
      ],
      "metadata": {
        "id": "fxWvKBElA6Am"
      }
    },
    {
      "cell_type": "markdown",
      "source": [
        "**7. Conclusion**\n",
        "\n",
        "This project successfully developed a predictive model for customer churn with an accuracy of 81%. By addressing the drivers of churn identified in the analysis, telecom companies can improve customer retention and reduce churn rates."
      ],
      "metadata": {
        "id": "v2EJwGyXBAMr"
      }
    },
    {
      "cell_type": "markdown",
      "source": [
        "**8. Future Work**\n",
        "\n",
        "Expand the analysis by comparing multiple models (e.g., Logistic Regression, Gradient Boosting) to establish baselines.\n",
        "\n",
        "Perform deeper exploratory data analysis (EDA) with additional visualizations.\n",
        "\n",
        "Experiment with advanced techniques like feature engineering and ensemble methods to improve prediction accuracy."
      ],
      "metadata": {
        "id": "mG-6rBflBExI"
      }
    },
    {
      "cell_type": "markdown",
      "source": [
        "**Appendix**\n",
        "\n",
        "Technologies Used:\n",
        "\n",
        "Python (Pandas, NumPy, Matplotlib, Seaborn, Scikit-learn)\n",
        "\n",
        "Jupyter/Google Colab for implementation\n",
        "\n",
        "References:\n",
        "\n",
        "Dataset: Telco Customer Churn Dataset\n",
        "\n",
        "Documentation: Scikit-learn Library\n",
        "\n"
      ],
      "metadata": {
        "id": "MpbBzGmbBLQv"
      }
    }
  ]
}